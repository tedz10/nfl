{
 "cells": [
  {
   "cell_type": "code",
   "execution_count": 1,
   "metadata": {
    "collapsed": false
   },
   "outputs": [],
   "source": [
    "import pandas as pd\n",
    "import numpy as np\n",
    "from sklearn import tree\n",
    "import pydotplus\n",
    "from sklearn.datasets import load_iris\n",
    "from sklearn import tree\n",
    "import collections\n",
    "\n",
    "from sklearn.tree import DecisionTreeClassifier, export_graphviz\n",
    "from sklearn import tree\n",
    "from sklearn.datasets import load_wine\n",
    "from IPython.display import SVG\n",
    "from graphviz import Source\n",
    "from IPython.display import display"
   ]
  },
  {
   "cell_type": "code",
   "execution_count": 2,
   "metadata": {
    "collapsed": false
   },
   "outputs": [],
   "source": [
    "# team data processing\n",
    "def getTeamStats(year):\n",
    "    indices = [\"\", \" (1)\", \" (2)\", \" (3)\", \" (4)\"]\n",
    "    o = []\n",
    "    for i in indices:\n",
    "        txt = \"teamstats/\" + str(year) + \"/offense/team-stats\" + i + \".csv\"\n",
    "        o.append(pd.read_csv(txt))\n",
    "    tot = o[0]\n",
    "    tot['curYear'] = year\n",
    "    tot['nextYear'] = year + 1\n",
    "    for i in range(1, len(o)):\n",
    "        tot = pd.merge(tot, o[i], on=\"TeamName\")\n",
    "        \n",
    "    d = []\n",
    "    for i in indices:\n",
    "        txt = \"teamstats/\" + str(year) + \"/defense/team-stats\" + i + \".csv\"\n",
    "        d.append(pd.read_csv(txt))\n",
    "    for i in range(0, len(d)):\n",
    "        tot = pd.merge(tot, d[i], on=\"TeamName\")\n",
    "    \n",
    "        \n",
    "        \n",
    "#     o1 = \"data/teamstats/\" + str(year) + \"offense/team-stats.csv\"\n",
    "#     o2 = \"data/teamstats/\" + str(year) + \"offense/team-stats (1).csv\"\n",
    "#     o3 = \"data/teamstats/\" + str(year) + \"offense/team-stats (2).csv\"\n",
    "#     o4 = \"data/teamstats/\" + str(year) + \"offense/team-stats (3).csv\"\n",
    "#     o5 = \"data/teamstats/\" + str(year) + \"offense/team-stats (4).csv\"\n",
    "#     offense = pd.merge(o1,o2, on=\"TeamName\")\n",
    "#     offense = pd.merge(offense,o3, on=\"TeamName\")\n",
    "#     offense = pd.merge(offense,o4, on=\"TeamName\")\n",
    "#     offense = pd.merge(offense,o5, on=\"TeamName\")\n",
    "    \n",
    "#     d1 = \"data/teamstats/\" + str(year) + \"defense/team-stats.csv\"\n",
    "#     d2 = \"data/teamstats/\" + str(year) + \"defense/team-stats (1).csv\"\n",
    "#     d3 = \"data/teamstats/\" + str(year) + \"defense/team-stats (2).csv\"\n",
    "#     d4 = \"data/teamstats/\" + str(year) + \"defense/team-stats (3).csv\"\n",
    "#     d5 = \"data/teamstats/\" + str(year) + \"defense/team-stats (4).csv\"\n",
    "#     defense = pd.merge(o1,o2, on=\"TeamName\")\n",
    "#     defense = pd.merge(defense,o3, on=\"TeamName\")\n",
    "#     defense = pd.merge(defense,o4, on=\"TeamName\")\n",
    "#     defense = pd.merge(defense,o5, on=\"TeamName\")\n",
    "#     total = pd.merge(offense, defense, on=\"Teamname\")\n",
    "    return tot\n",
    "    \n",
    "l = []\n",
    "for i in range(2010, 2018):\n",
    "    x = getTeamStats(i)\n",
    "    l.append(x)\n",
    "d = pd.concat(l)\n",
    "d = d.reset_index()\n",
    "\n",
    "d.to_csv(\"data.csv\")\n"
   ]
  },
  {
   "cell_type": "code",
   "execution_count": 3,
   "metadata": {
    "collapsed": false
   },
   "outputs": [],
   "source": [
    "# d.TimeOfPossession[0].split(\":\")\n",
    "\n",
    "def getTimeofP(row):\n",
    "    x, y = row.TimeOfPossession_x.split(\":\")\n",
    "    m = int(x)\n",
    "    n = int(y)\n",
    "    return m*60 + n\n",
    "d[\"TimeOfPossession\"] = d.apply(getTimeofP, axis=1)"
   ]
  },
  {
   "cell_type": "code",
   "execution_count": 4,
   "metadata": {
    "collapsed": false
   },
   "outputs": [],
   "source": [
    "# get playoff teams\n",
    "playoffs = {}\n",
    "playoffs[2010] = [\"Patriots\", \"Steelers\", \"Falcons\", \"Bears\", \"Jets\", \"Colts\" \"Ravens\", \"Chiefs\", \"Packers\", \"Eagles\", \"Saints\", \"Seahawks\"]\n",
    "playoffs[2011] = [\"Patriots\", \"Ravens\", \"Packers\", \"49ers\", \"Falcons\", \"Giants\", \"Lions\", \"Bengals\", \"Texans\", \"Steelers\", \"Broncos\", \"Saints\"]\n",
    "playoffs[2012] = [\"Broncos\", \"Patriots\", \"Texans\", \"Ravens\", \"Colts\", \"Bengals\", \"Ffalcons\", \"49ers\", \"Packers\", \"Redskins\", \"Seahawks\", \"Vikings\"]\n",
    "playoffs[2013] = [\"Broncos\", \"Patriots\", \"Bengals\", \"Colts\", \"Chiefs\", \"Chargers\", \"Seahawks\", \"Panthers\", \"Eagles\", \"Packers\", \"49ers\", \"Saints\"]\n",
    "playoffs[2014] = [\"Patriots\", \"Broncos\", \"Steelers\", \"Colts\", \"Bengals\", \"Ravens\", \"Seahawks\", \"Packers\", \"Cowboys\", \"Panthers\", \"Cardinals\", \"Lions\"]\n",
    "playoffs[2015] = [\"Broncos\", \"Patriots\", \"Bengals\", \"Texans\", \"Chiefs\", \"Steelers\", \"Panthers\", \"Cardinals\", \"Vikings\", \"Redskins\", \"Packers\", \"Seahawks\"]\n",
    "playoffs[2016] = [\"Patriots\", \"Chiefs\", \"Steelers\", \"Texans\", \"Raiders\", \"Dolphins\", \"Cowboys\", \"Falcons\", \"Seahawks\", \"Packers\", \"Giants\", \"Lions\"]\n",
    "playoffs[2017] = [\"Patriots\", \"Steelers\", \"Jaguars\", \"Chiefs\", \"Titans\", \"Bills\", \"Eagles\", \"Vikings\", \"Rams\", \"Saints\", \"Panters\", \"Falcons\"]"
   ]
  },
  {
   "cell_type": "code",
   "execution_count": 6,
   "metadata": {
    "collapsed": false
   },
   "outputs": [],
   "source": [
    "def getPlayoffs(row):\n",
    "    if row['TeamName'] in playoffs[row[\"curYear\"]]:\n",
    "        return 1\n",
    "    else:\n",
    "        return 0\n",
    "    \n",
    "#     curYear = \n",
    "#     df['p'] = 0\n",
    "#     for index, row in df.iterrows():\n",
    "#         if df.loc[index, \"TeamName\"] in playoffs[int(df.loc[index, 'curYear'])]:\n",
    "#             df.loc[index, 'p'] = 1\n",
    "#     return df"
   ]
  },
  {
   "cell_type": "code",
   "execution_count": 42,
   "metadata": {
    "collapsed": true
   },
   "outputs": [],
   "source": [
    "def getBest(df):\n",
    "    d = {}\n",
    "    for index, row in df.iterrows():\n",
    "        if row.TeamName not in d:\n",
    "            d[row.TeamName] = 0\n",
    "        d[row.TeamName] +=1\n",
    "    return d\n"
   ]
  },
  {
   "cell_type": "code",
   "execution_count": 7,
   "metadata": {
    "collapsed": false
   },
   "outputs": [],
   "source": [
    "d['Playoffs'] = d.apply(getPlayoffs, axis = 1)\n",
    "d = d.ix[:,~d.columns.duplicated()]"
   ]
  },
  {
   "cell_type": "code",
   "execution_count": 48,
   "metadata": {
    "collapsed": false
   },
   "outputs": [],
   "source": [
    "# df['Auction_Rank'] = df.groupby('Auction_ID')['Bid_Price'].rank(ascending=False)\n",
    "d['PointsRank'] = d.groupby(\"curYear\")['PointsPerGame_x'].rank(ascending=False)\n",
    "d['TurnoverRank'] = d.groupby(\"curYear\")['TurnoverDifferential'].rank(ascending=False)\n",
    "d['OppOffenseRank'] = d.groupby(\"curYear\")['OpponentOffensiveYards'].rank(ascending=True)\n",
    "d['TOPrank'] = d.groupby(\"curYear\")['TimeOfPossession'].rank(ascending=False)\n",
    "d['RushRank'] = d.groupby(\"curYear\")['RushingYards_x'].rank(ascending=False)\n",
    "d_mostpoints = d.loc[d['PointsRank']<=3]\n",
    "d_turnrank = d.loc[d['TurnoverRank']<=3]\n",
    "d_oppoffrank = d.loc[d['OppOffenseRank']<=3]\n",
    "d_top = d.loc[d['TOPrank']<=3]\n",
    "d_rushrank = d.loc[d['RushRank']<=3]"
   ]
  },
  {
   "cell_type": "code",
   "execution_count": 49,
   "metadata": {
    "collapsed": false
   },
   "outputs": [
    {
     "data": {
      "text/plain": [
       "{'Bears': 1,\n",
       " 'Broncos': 3,\n",
       " 'Cardinals': 1,\n",
       " 'Chargers': 1,\n",
       " 'Eagles': 3,\n",
       " 'Falcons': 1,\n",
       " 'Packers': 2,\n",
       " 'Panthers': 1,\n",
       " 'Patriots': 7,\n",
       " 'Rams': 1,\n",
       " 'Saints': 3}"
      ]
     },
     "execution_count": 49,
     "metadata": {},
     "output_type": "execute_result"
    }
   ],
   "source": [
    "d_mostpoints.loc[:,['TeamName', 'curYear']]\n",
    "x = getBest(d_mostpoints)\n",
    "x"
   ]
  },
  {
   "cell_type": "code",
   "execution_count": 50,
   "metadata": {
    "collapsed": false
   },
   "outputs": [
    {
     "data": {
      "text/plain": [
       "{'49ers': 1,\n",
       " 'Bears': 1,\n",
       " 'Bengals': 1,\n",
       " 'Chargers': 1,\n",
       " 'Chiefs': 4,\n",
       " 'Colts': 1,\n",
       " 'Falcons': 1,\n",
       " 'Packers': 2,\n",
       " 'Panthers': 1,\n",
       " 'Patriots': 5,\n",
       " 'Raiders': 1,\n",
       " 'Ravens': 1,\n",
       " 'Redskins': 1,\n",
       " 'Seahawks': 1,\n",
       " 'Steelers': 1,\n",
       " 'Texans': 1}"
      ]
     },
     "execution_count": 50,
     "metadata": {},
     "output_type": "execute_result"
    }
   ],
   "source": [
    "#chiefs?\n",
    "x = getBest(d_turnrank)\n",
    "x\n",
    "# d_turnrank.loc[:,['TeamName', 'curYear']]"
   ]
  },
  {
   "cell_type": "code",
   "execution_count": 51,
   "metadata": {
    "collapsed": false
   },
   "outputs": [
    {
     "data": {
      "text/plain": [
       "{'49ers': 1,\n",
       " 'Bengals': 1,\n",
       " 'Broncos': 4,\n",
       " 'Cardinals': 1,\n",
       " 'Chargers': 1,\n",
       " 'Jaguars': 1,\n",
       " 'Jets': 1,\n",
       " 'Lions': 1,\n",
       " 'Panthers': 1,\n",
       " 'Ravens': 1,\n",
       " 'Seahawks': 3,\n",
       " 'Steelers': 3,\n",
       " 'Texans': 3,\n",
       " 'Vikings': 2}"
      ]
     },
     "execution_count": 51,
     "metadata": {},
     "output_type": "execute_result"
    }
   ],
   "source": [
    "#broncos\n",
    "x = getBest(d_oppoffrank)\n",
    "x\n",
    "# d_oppoffrank.loc[:,['TeamName', 'curYear']]"
   ]
  },
  {
   "cell_type": "code",
   "execution_count": 53,
   "metadata": {
    "collapsed": false
   },
   "outputs": [
    {
     "data": {
      "text/html": [
       "<div>\n",
       "<table border=\"1\" class=\"dataframe\">\n",
       "  <thead>\n",
       "    <tr style=\"text-align: right;\">\n",
       "      <th></th>\n",
       "      <th>TeamName</th>\n",
       "      <th>curYear</th>\n",
       "      <th>TOPrank</th>\n",
       "    </tr>\n",
       "  </thead>\n",
       "  <tbody>\n",
       "    <tr>\n",
       "      <th>26</th>\n",
       "      <td>Titans</td>\n",
       "      <td>2010</td>\n",
       "      <td>1.0</td>\n",
       "    </tr>\n",
       "    <tr>\n",
       "      <th>30</th>\n",
       "      <td>Cardinals</td>\n",
       "      <td>2010</td>\n",
       "      <td>2.0</td>\n",
       "    </tr>\n",
       "    <tr>\n",
       "      <th>31</th>\n",
       "      <td>Panthers</td>\n",
       "      <td>2010</td>\n",
       "      <td>3.0</td>\n",
       "    </tr>\n",
       "    <tr>\n",
       "      <th>59</th>\n",
       "      <td>Seahawks</td>\n",
       "      <td>2011</td>\n",
       "      <td>3.0</td>\n",
       "    </tr>\n",
       "    <tr>\n",
       "      <th>61</th>\n",
       "      <td>Colts</td>\n",
       "      <td>2011</td>\n",
       "      <td>1.0</td>\n",
       "    </tr>\n",
       "    <tr>\n",
       "      <th>62</th>\n",
       "      <td>Rams</td>\n",
       "      <td>2011</td>\n",
       "      <td>2.0</td>\n",
       "    </tr>\n",
       "    <tr>\n",
       "      <th>88</th>\n",
       "      <td>Browns</td>\n",
       "      <td>2012</td>\n",
       "      <td>2.0</td>\n",
       "    </tr>\n",
       "    <tr>\n",
       "      <th>89</th>\n",
       "      <td>Titans</td>\n",
       "      <td>2012</td>\n",
       "      <td>3.0</td>\n",
       "    </tr>\n",
       "    <tr>\n",
       "      <th>92</th>\n",
       "      <td>Jaguars</td>\n",
       "      <td>2012</td>\n",
       "      <td>1.0</td>\n",
       "    </tr>\n",
       "    <tr>\n",
       "      <th>97</th>\n",
       "      <td>Eagles</td>\n",
       "      <td>2013</td>\n",
       "      <td>1.0</td>\n",
       "    </tr>\n",
       "    <tr>\n",
       "      <th>108</th>\n",
       "      <td>Vikings</td>\n",
       "      <td>2013</td>\n",
       "      <td>3.0</td>\n",
       "    </tr>\n",
       "    <tr>\n",
       "      <th>126</th>\n",
       "      <td>Jaguars</td>\n",
       "      <td>2013</td>\n",
       "      <td>2.0</td>\n",
       "    </tr>\n",
       "    <tr>\n",
       "      <th>132</th>\n",
       "      <td>Eagles</td>\n",
       "      <td>2014</td>\n",
       "      <td>3.0</td>\n",
       "    </tr>\n",
       "    <tr>\n",
       "      <th>157</th>\n",
       "      <td>Buccaneers</td>\n",
       "      <td>2014</td>\n",
       "      <td>2.0</td>\n",
       "    </tr>\n",
       "    <tr>\n",
       "      <th>158</th>\n",
       "      <td>Jaguars</td>\n",
       "      <td>2014</td>\n",
       "      <td>1.0</td>\n",
       "    </tr>\n",
       "    <tr>\n",
       "      <th>171</th>\n",
       "      <td>Eagles</td>\n",
       "      <td>2015</td>\n",
       "      <td>1.0</td>\n",
       "    </tr>\n",
       "    <tr>\n",
       "      <th>185</th>\n",
       "      <td>Dolphins</td>\n",
       "      <td>2015</td>\n",
       "      <td>2.0</td>\n",
       "    </tr>\n",
       "    <tr>\n",
       "      <th>190</th>\n",
       "      <td>49ers</td>\n",
       "      <td>2015</td>\n",
       "      <td>3.0</td>\n",
       "    </tr>\n",
       "    <tr>\n",
       "      <th>206</th>\n",
       "      <td>Bears</td>\n",
       "      <td>2016</td>\n",
       "      <td>2.0</td>\n",
       "    </tr>\n",
       "    <tr>\n",
       "      <th>221</th>\n",
       "      <td>Browns</td>\n",
       "      <td>2016</td>\n",
       "      <td>3.0</td>\n",
       "    </tr>\n",
       "    <tr>\n",
       "      <th>222</th>\n",
       "      <td>49ers</td>\n",
       "      <td>2016</td>\n",
       "      <td>1.0</td>\n",
       "    </tr>\n",
       "    <tr>\n",
       "      <th>247</th>\n",
       "      <td>Browns</td>\n",
       "      <td>2017</td>\n",
       "      <td>2.0</td>\n",
       "    </tr>\n",
       "    <tr>\n",
       "      <th>252</th>\n",
       "      <td>Bills</td>\n",
       "      <td>2017</td>\n",
       "      <td>3.0</td>\n",
       "    </tr>\n",
       "    <tr>\n",
       "      <th>255</th>\n",
       "      <td>Bengals</td>\n",
       "      <td>2017</td>\n",
       "      <td>1.0</td>\n",
       "    </tr>\n",
       "  </tbody>\n",
       "</table>\n",
       "</div>"
      ],
      "text/plain": [
       "       TeamName  curYear  TOPrank\n",
       "26       Titans     2010      1.0\n",
       "30    Cardinals     2010      2.0\n",
       "31     Panthers     2010      3.0\n",
       "59     Seahawks     2011      3.0\n",
       "61        Colts     2011      1.0\n",
       "62         Rams     2011      2.0\n",
       "88       Browns     2012      2.0\n",
       "89       Titans     2012      3.0\n",
       "92      Jaguars     2012      1.0\n",
       "97       Eagles     2013      1.0\n",
       "108     Vikings     2013      3.0\n",
       "126     Jaguars     2013      2.0\n",
       "132      Eagles     2014      3.0\n",
       "157  Buccaneers     2014      2.0\n",
       "158     Jaguars     2014      1.0\n",
       "171      Eagles     2015      1.0\n",
       "185    Dolphins     2015      2.0\n",
       "190       49ers     2015      3.0\n",
       "206       Bears     2016      2.0\n",
       "221      Browns     2016      3.0\n",
       "222       49ers     2016      1.0\n",
       "247      Browns     2017      2.0\n",
       "252       Bills     2017      3.0\n",
       "255     Bengals     2017      1.0"
      ]
     },
     "execution_count": 53,
     "metadata": {},
     "output_type": "execute_result"
    }
   ],
   "source": [
    "x = getBest(d_top)\n",
    "x\n",
    "d_top.loc[:,['TeamName', 'curYear', 'TOPrank']]"
   ]
  },
  {
   "cell_type": "code",
   "execution_count": 47,
   "metadata": {
    "collapsed": false
   },
   "outputs": [
    {
     "data": {
      "text/plain": [
       "{'49ers': 1,\n",
       " 'Bills': 3,\n",
       " 'Broncos': 1,\n",
       " 'Chiefs': 1,\n",
       " 'Cowboys': 3,\n",
       " 'Eagles': 2,\n",
       " 'Jaguars': 2,\n",
       " 'Jets': 1,\n",
       " 'Panthers': 2,\n",
       " 'Raiders': 1,\n",
       " 'Redskins': 1,\n",
       " 'Seahawks': 3,\n",
       " 'Texans': 1,\n",
       " 'Titans': 1,\n",
       " 'Vikings': 1}"
      ]
     },
     "execution_count": 47,
     "metadata": {},
     "output_type": "execute_result"
    }
   ],
   "source": [
    "x = getBest(d_rushrank)\n",
    "x"
   ]
  },
  {
   "cell_type": "code",
   "execution_count": 25,
   "metadata": {
    "collapsed": false
   },
   "outputs": [],
   "source": [
    "# features will be \n",
    "# data_train = d.loc[:,[\"TeamName\", \"PointsPerGame_x\"]]\n",
    "features = [\"PointsPerGame_x\" , 'ThirdDownPercentage', 'RedZonePercentage', 'OffensiveYardsPerPlay', 'PenaltyYards', 'TurnoverDifferential', 'RushingYards_x', 'TimesSacked_x', \"OpponentTimesSacked_x\", 'PassingYards_x', 'OpponentRedZonePercentage'\n",
    "            ,'OpponentOffensiveYards'\n",
    "#             , 'OpponentPassingYards_x', 'OpponentRushingYards_x',\n",
    "#             'PasserRating','TimeOfPossession',\n",
    "           ]\n",
    "data_train_x = d.loc[:,features]\n",
    "data_train_y = d.loc[:, [\"Playoffs\"]]"
   ]
  },
  {
   "cell_type": "code",
   "execution_count": 26,
   "metadata": {
    "collapsed": false
   },
   "outputs": [],
   "source": [
    "clf = tree.DecisionTreeClassifier()\n",
    "clf = clf.fit(data_train_x, data_train_y)"
   ]
  },
  {
   "cell_type": "code",
   "execution_count": 27,
   "metadata": {
    "collapsed": false
   },
   "outputs": [
    {
     "data": {
      "text/plain": [
       "True"
      ]
     },
     "execution_count": 27,
     "metadata": {},
     "output_type": "execute_result"
    }
   ],
   "source": [
    "dot_data = tree.export_graphviz(clf,\n",
    "                                feature_names=features,\n",
    "                                out_file=None,\n",
    "                                filled=True,\n",
    "                                rounded=True)\n",
    "graph = pydotplus.graph_from_dot_data(dot_data)\n",
    "\n",
    "colors = ('turquoise', 'orange')\n",
    "edges = collections.defaultdict(list)\n",
    "\n",
    "for edge in graph.get_edge_list():\n",
    "    edges[edge.get_source()].append(int(edge.get_destination()))\n",
    "\n",
    "for edge in edges:\n",
    "    edges[edge].sort()    \n",
    "    for i in range(2):\n",
    "        dest = graph.get_node(str(edges[edge][i]))[0]\n",
    "        dest.set_fillcolor(colors[i])\n",
    "\n",
    "graph.write_png('tree.png')"
   ]
  },
  {
   "cell_type": "code",
   "execution_count": 11,
   "metadata": {
    "collapsed": false
   },
   "outputs": [
    {
     "data": {
      "text/plain": [
       "False"
      ]
     },
     "execution_count": 11,
     "metadata": {},
     "output_type": "execute_result"
    }
   ],
   "source": [
    "np.any(np.isnan(data_train_x))\n",
    "# np.all(np.isfinite(data_train_x))"
   ]
  },
  {
   "cell_type": "code",
   "execution_count": 12,
   "metadata": {
    "collapsed": false
   },
   "outputs": [
    {
     "data": {
      "text/plain": [
       "(256, 15)"
      ]
     },
     "execution_count": 12,
     "metadata": {},
     "output_type": "execute_result"
    }
   ],
   "source": [
    "data_train_x.shape"
   ]
  },
  {
   "cell_type": "code",
   "execution_count": 13,
   "metadata": {
    "collapsed": false
   },
   "outputs": [
    {
     "data": {
      "text/plain": [
       "(256, 1)"
      ]
     },
     "execution_count": 13,
     "metadata": {},
     "output_type": "execute_result"
    }
   ],
   "source": [
    "data_train_y.shape"
   ]
  },
  {
   "cell_type": "code",
   "execution_count": 161,
   "metadata": {
    "collapsed": false
   },
   "outputs": [
    {
     "data": {
      "text/html": [
       "<div>\n",
       "<table border=\"1\" class=\"dataframe\">\n",
       "  <thead>\n",
       "    <tr style=\"text-align: right;\">\n",
       "      <th></th>\n",
       "      <th>PointsPerGame_x</th>\n",
       "      <th>ThirdDownPercentage</th>\n",
       "      <th>RedZonePercentage</th>\n",
       "      <th>OffensiveYardsPerPlay</th>\n",
       "      <th>PenaltyYards</th>\n",
       "      <th>TimeOfPossession</th>\n",
       "      <th>TurnoverDifferential</th>\n",
       "      <th>RushingYards_x</th>\n",
       "      <th>TimesSacked_x</th>\n",
       "      <th>PassingYards_x</th>\n",
       "      <th>OpponentRedZonePercentage</th>\n",
       "      <th>OpponentPassingYards_x</th>\n",
       "      <th>OpponentRushingYards_x</th>\n",
       "      <th>PasserRating</th>\n",
       "    </tr>\n",
       "  </thead>\n",
       "  <tbody>\n",
       "  </tbody>\n",
       "</table>\n",
       "</div>"
      ],
      "text/plain": [
       "Empty DataFrame\n",
       "Columns: [PointsPerGame_x, ThirdDownPercentage, RedZonePercentage, OffensiveYardsPerPlay, PenaltyYards, TimeOfPossession, TurnoverDifferential, RushingYards_x, TimesSacked_x, PassingYards_x, OpponentRedZonePercentage, OpponentPassingYards_x, OpponentRushingYards_x, PasserRating]\n",
       "Index: []"
      ]
     },
     "execution_count": 161,
     "metadata": {},
     "output_type": "execute_result"
    }
   ],
   "source": [
    "data_train_x.loc[data_train_x.isnull().any(axis=1) == 1]"
   ]
  },
  {
   "cell_type": "code",
   "execution_count": null,
   "metadata": {
    "collapsed": true
   },
   "outputs": [],
   "source": []
  }
 ],
 "metadata": {
  "anaconda-cloud": {},
  "kernelspec": {
   "display_name": "Python [Root]",
   "language": "python",
   "name": "Python [Root]"
  },
  "language_info": {
   "codemirror_mode": {
    "name": "ipython",
    "version": 2
   },
   "file_extension": ".py",
   "mimetype": "text/x-python",
   "name": "python",
   "nbconvert_exporter": "python",
   "pygments_lexer": "ipython2",
   "version": "2.7.3"
  }
 },
 "nbformat": 4,
 "nbformat_minor": 0
}
